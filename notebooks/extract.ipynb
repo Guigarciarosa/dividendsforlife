{
 "cells": [
  {
   "cell_type": "markdown",
   "metadata": {},
   "source": [
    "# Extract - 001\n",
    "- Extract all the stocks\n",
    "- Extract the stock sectors\n",
    "- Extract the fundamentals indicators"
   ]
  },
  {
   "cell_type": "markdown",
   "metadata": {},
   "source": [
    "# 1 - Libs and Packages"
   ]
  },
  {
   "cell_type": "code",
   "execution_count": 2,
   "metadata": {},
   "outputs": [],
   "source": [
    "# packages\n",
    "# data manipulation\n",
    "import pandas as pd\n",
    "import datetime as dt\n",
    "\n",
    "# using the scrapping lib\n",
    "import re\n",
    "import requests\n",
    "from bs4 import BeautifulSoup\n",
    "import urllib.request\n",
    "import urllib.parse\n",
    "\n",
    "# lib to passe cookies\n",
    "import http.cookiejar\n",
    "\n",
    "# database\n",
    "import sqlite3"
   ]
  },
  {
   "cell_type": "markdown",
   "metadata": {},
   "source": [
    "# 2 - Extract"
   ]
  },
  {
   "cell_type": "code",
   "execution_count": 3,
   "metadata": {},
   "outputs": [],
   "source": [
    "# url if the page to scrape\n",
    "# Create a stock to insert inside the url\n",
    "stock = 'TRPL4'\n",
    "\n",
    "url = f'https://www.fundamentus.com.br/detalhes.php?papel={stock}'"
   ]
  },
  {
   "cell_type": "code",
   "execution_count": null,
   "metadata": {},
   "outputs": [],
   "source": [
    "# create a conn to insert inside the database\n",
    "conn = sqlite3.connect(r'../database/database.sqlite3')"
   ]
  },
  {
   "cell_type": "code",
   "execution_count": 4,
   "metadata": {},
   "outputs": [],
   "source": [
    "# create a token to pass the cookies\n",
    "cookie_jar = http.cookiejar.CookieJar()\n",
    "opener = urllib.request.build_opener(urllib.request.HTTPCookieProcessor(cookie_jar))\n",
    "opener.addheaders = [('User-agent', 'Mozilla/5.0 (Windows; U; Windows NT 6.1; rv:2.2) Gecko/20110201'),\n",
    "                         ('Accept', 'text/html, text/plain, text/css, text/sgml, */*;q=0.01')]"
   ]
  },
  {
   "cell_type": "code",
   "execution_count": 5,
   "metadata": {},
   "outputs": [],
   "source": [
    "# Send http request\n",
    "html = opener.open(url)\n",
    "html_content = html.read().decode('ISO-8859-1')"
   ]
  },
  {
   "cell_type": "code",
   "execution_count": 6,
   "metadata": {},
   "outputs": [],
   "source": [
    "# find the pattern of the table inside the html content\n",
    "pattern = re.compile('<table class=\"w728\">.*</table>',re.DOTALL)\n",
    "# apply the pattern inside the html\n",
    "final_soup = re.findall(pattern,html_content)[0]"
   ]
  },
  {
   "cell_type": "code",
   "execution_count": 7,
   "metadata": {},
   "outputs": [],
   "source": [
    "soup = BeautifulSoup(final_soup,'lxml')"
   ]
  },
  {
   "cell_type": "code",
   "execution_count": 8,
   "metadata": {},
   "outputs": [],
   "source": [
    "# create a empty list to store the data\n",
    "data = []\n",
    "for dt in soup.find_all(\"span\",attrs={'class':'txt'}):\n",
    "    data.append(dt.text)"
   ]
  },
  {
   "cell_type": "code",
   "execution_count": 9,
   "metadata": {},
   "outputs": [
    {
     "data": {
      "text/plain": [
       "['Papel',\n",
       " 'TRPL4',\n",
       " 'Cotação',\n",
       " '25,13',\n",
       " 'Tipo',\n",
       " 'PN N1',\n",
       " 'Data últ cot',\n",
       " '31/05/2024',\n",
       " 'Empresa',\n",
       " 'TRANSMISSÃO PAULISTA PN N1',\n",
       " 'Min 52 sem',\n",
       " '19,68',\n",
       " 'Setor',\n",
       " 'Energia Elétrica',\n",
       " 'Max 52 sem',\n",
       " '27,75',\n",
       " 'Subsetor',\n",
       " 'Energia Elétrica',\n",
       " 'Vol $ méd (2m)',\n",
       " '90.173.100',\n",
       " 'Valor de mercado',\n",
       " '16.557.700.000',\n",
       " 'Últ balanço processado',\n",
       " '31/03/2024',\n",
       " 'Valor da firma',\n",
       " '24.184.000.000',\n",
       " 'Nro. Ações',\n",
       " '658.883.000',\n",
       " 'Oscilações',\n",
       " 'Indicadores fundamentalistas',\n",
       " 'Dia',\n",
       " 'P/L',\n",
       " '6,05',\n",
       " 'LPA',\n",
       " '4,15',\n",
       " 'Mês',\n",
       " 'P/VP',\n",
       " '0,92',\n",
       " 'VPA',\n",
       " '27,34',\n",
       " '30 dias',\n",
       " 'P/EBIT',\n",
       " '\\n4,84',\n",
       " 'Marg. Bruta',\n",
       " '\\n55,7%',\n",
       " '12 meses',\n",
       " 'PSR',\n",
       " '\\n2,50',\n",
       " 'Marg. EBIT',\n",
       " '\\n51,7%',\n",
       " '2024',\n",
       " 'P/Ativos',\n",
       " '\\n0,44',\n",
       " 'Marg. Líquida',\n",
       " '\\n42,2%',\n",
       " '2023',\n",
       " 'P/Cap. Giro',\n",
       " '\\n3,62',\n",
       " 'EBIT / Ativo',\n",
       " '9,0%',\n",
       " '2022',\n",
       " 'P/Ativ Circ Liq',\n",
       " '\\n-1,31',\n",
       " 'ROIC',\n",
       " '\\n9,8%',\n",
       " '2021',\n",
       " 'Div. Yield',\n",
       " '8,8%',\n",
       " 'ROE',\n",
       " '\\n15,2%',\n",
       " '2020',\n",
       " 'EV / EBITDA',\n",
       " '\\n7,01',\n",
       " 'Liquidez Corr',\n",
       " '\\n3,08',\n",
       " '2019',\n",
       " 'EV / EBIT',\n",
       " '\\n7,07',\n",
       " 'Div Br/ Patrim',\n",
       " '\\n0,58',\n",
       " '',\n",
       " 'Cres. Rec (5a)',\n",
       " '\\n18,5%',\n",
       " 'Giro Ativos',\n",
       " '\\n0,17',\n",
       " 'Dados Balanço Patrimonial',\n",
       " 'Ativo',\n",
       " '37.956.700.000',\n",
       " 'Dív. Bruta',\n",
       " '10.371.900.000',\n",
       " 'Disponibilidades',\n",
       " '2.745.650.000',\n",
       " 'Dív. Líquida',\n",
       " '7.626.290.000',\n",
       " 'Ativo Circulante',\n",
       " '6.781.300.000',\n",
       " 'Patrim. Líq',\n",
       " '18.016.200.000',\n",
       " 'Dados demonstrativos de resultados',\n",
       " 'Últimos 12 meses',\n",
       " 'Últimos 3 meses',\n",
       " 'Receita Líquida',\n",
       " '6.622.890.000',\n",
       " 'Receita Líquida',\n",
       " '1.978.190.000',\n",
       " 'EBIT',\n",
       " '3.421.680.000',\n",
       " 'EBIT',\n",
       " '942.628.000',\n",
       " 'Lucro Líquido',\n",
       " '2.735.330.000',\n",
       " 'Lucro Líquido',\n",
       " '643.078.000']"
      ]
     },
     "execution_count": 9,
     "metadata": {},
     "output_type": "execute_result"
    }
   ],
   "source": [
    "data"
   ]
  },
  {
   "cell_type": "code",
   "execution_count": 10,
   "metadata": {},
   "outputs": [],
   "source": [
    "# create a empty list to store the columns\n",
    "data = []\n",
    "for dt in soup.find_all(\"span\",attrs={'class':'txt'}):\n",
    "    data.append(dt.text)"
   ]
  },
  {
   "cell_type": "code",
   "execution_count": 50,
   "metadata": {},
   "outputs": [],
   "source": [
    "# create a empty list to store the columns names\n",
    "column_names = []\n",
    "column_names.append(data[0:len(data):2])"
   ]
  },
  {
   "cell_type": "code",
   "execution_count": 51,
   "metadata": {},
   "outputs": [],
   "source": [
    "# get until the nine line and get the real name columns\n",
    "column_names_clean = []\n",
    "for column in column_names:\n",
    "    column_names_clean.append(column[:9])"
   ]
  },
  {
   "cell_type": "code",
   "execution_count": 52,
   "metadata": {},
   "outputs": [],
   "source": [
    "# create a empty list to return the rows from nine lines\n",
    "rows = []\n",
    "rows.append(data[1:len(data):2])\n",
    "rows_clean = []\n",
    "for row in rows:\n",
    "    rows_clean.append(str(row[:9]))"
   ]
  },
  {
   "cell_type": "code",
   "execution_count": 54,
   "metadata": {},
   "outputs": [],
   "source": [
    "# Using eval function to evaluate the python expression as 'string' and return the value as an integer\n",
    "rows_clean = eval(rows_clean[0])"
   ]
  },
  {
   "cell_type": "code",
   "execution_count": 77,
   "metadata": {},
   "outputs": [],
   "source": [
    "final_data = pd.DataFrame(\n",
    "    [rows_clean], columns=column_names_clean\n",
    ")"
   ]
  },
  {
   "cell_type": "markdown",
   "metadata": {},
   "source": [
    "# 3 - Transform"
   ]
  },
  {
   "cell_type": "code",
   "execution_count": 78,
   "metadata": {},
   "outputs": [],
   "source": [
    "# take the Multindex of the columns level\n",
    "final_data.columns = final_data.columns.map(''.join)"
   ]
  },
  {
   "cell_type": "code",
   "execution_count": 79,
   "metadata": {},
   "outputs": [],
   "source": [
    "# clean all the columns names\n",
    "final_data.columns = final_data.columns.str.replace(' ','_').str.replace('ú','u').str.replace('ã','a').str.replace('ç','c').str.lower()"
   ]
  },
  {
   "cell_type": "code",
   "execution_count": 80,
   "metadata": {},
   "outputs": [],
   "source": [
    "# clean the data for datetime\n",
    "final_data['data_ult_cot'] = final_data['data_ult_cot'].astype('datetime64[ns]')"
   ]
  },
  {
   "cell_type": "code",
   "execution_count": 84,
   "metadata": {},
   "outputs": [],
   "source": [
    "# clean the decimal point for convert to float\n",
    "final_data['cotacao'] = final_data['cotacao'].str.replace(',','.')"
   ]
  },
  {
   "cell_type": "code",
   "execution_count": 85,
   "metadata": {},
   "outputs": [],
   "source": [
    "# convert to float\n",
    "final_data['cotacao'] = final_data['cotacao'].astype('float64')"
   ]
  },
  {
   "cell_type": "code",
   "execution_count": 87,
   "metadata": {},
   "outputs": [],
   "source": [
    "final_data['max_52_sem'] = final_data['max_52_sem'].str.replace(',','.')\n",
    "final_data['max_52_sem'] = final_data['max_52_sem'].astype('float64')\n",
    "final_data['min_52_sem'] = final_data['min_52_sem'].str.replace(',','.')\n",
    "final_data['min_52_sem'] = final_data['min_52_sem'].astype('float64')"
   ]
  },
  {
   "cell_type": "code",
   "execution_count": 91,
   "metadata": {},
   "outputs": [],
   "source": [
    "final_data['data_extract'] = dt.date.today()"
   ]
  },
  {
   "cell_type": "code",
   "execution_count": 92,
   "metadata": {},
   "outputs": [
    {
     "data": {
      "text/plain": [
       "1"
      ]
     },
     "execution_count": 92,
     "metadata": {},
     "output_type": "execute_result"
    }
   ],
   "source": [
    "final_data.to_sql('stock_prices_daily',\n",
    "                  con=conn,\n",
    "                  schema=None,\n",
    "                  index=False)"
   ]
  },
  {
   "cell_type": "code",
   "execution_count": null,
   "metadata": {},
   "outputs": [],
   "source": []
  }
 ],
 "metadata": {
  "kernelspec": {
   "display_name": "dvdfl_venv",
   "language": "python",
   "name": "python3"
  },
  "language_info": {
   "codemirror_mode": {
    "name": "ipython",
    "version": 3
   },
   "file_extension": ".py",
   "mimetype": "text/x-python",
   "name": "python",
   "nbconvert_exporter": "python",
   "pygments_lexer": "ipython3",
   "version": "3.12.1"
  }
 },
 "nbformat": 4,
 "nbformat_minor": 2
}
